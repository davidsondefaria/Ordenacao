{
 "cells": [
  {
   "cell_type": "markdown",
   "metadata": {},
   "source": [
    "# Introdução\n",
    "A ordenação de elementos consiste em organizá-los em ordem crescente (ou decrescente) de forma a facilitar a recuperação, busca ou visualização dos dados. O assunto já foi amplamente discutido em computação, fazendo com que se atingisse as cotas inferiores de complexidade da maioria dos algoritmos de ordenação.\n",
    "\n",
    "A maioria das linguagens de programação já possuem os métodos de ordenação implementados, mas há casos que esses métodos não atingem a eficiência desejada e, portanto, o estudo dos algoritmos se torna importante para um cientista da computação. Tal estudo ocorre através da análise dos algoritmos para determinar qual será a quantidade de recursos, de tempo e espaço, necessária para a execução de uma entrada de tamanho arbitrário.\n",
    "\n",
    "\n",
    "## Objetivo\n",
    "Esse projeto tem como objetivo aplicar os conhecimentos adquiridos sobre os seguintes algoritmos de ordenação:\n",
    "BubbleSort, InsertionSort, SelectionSort, MergeSort, QuickSort e HeapSort. O projeto irá explorar o melhor, pior e o caso médio de cada algoritmo e compará-los em questão de tempo."
   ]
  },
  {
   "cell_type": "code",
   "execution_count": 28,
   "metadata": {},
   "outputs": [
    {
     "name": "stdout",
     "output_type": "stream",
     "text": [
      "52\n",
      "13\n",
      "65\n",
      "58\n",
      "88\n",
      "98\n",
      "52\n",
      "39\n",
      "26\n",
      "42\n"
     ]
    }
   ],
   "source": [
    "#include <time.h>\n",
    "#include <stdio.h>\n",
    "#include <stdlib.h>\n",
    "#include \"/home/davidson/Algoritmos/Ordenacao/bibaux.h\"\n",
    "\n",
    "void main(){\n",
    "    int i, n=10;\n",
    "    int v[10];\n",
    "    \n",
    "    vetorAleatorio(v, n);\n",
    "    \n",
    "    for(i=0; i<n; i++){\n",
    "        printf(\"%d\\n\", v[i]);\n",
    "    }\n",
    "}"
   ]
  },
  {
   "cell_type": "markdown",
   "metadata": {},
   "source": [
    "## BubbleSort"
   ]
  },
  {
   "cell_type": "code",
   "execution_count": 33,
   "metadata": {},
   "outputs": [
    {
     "name": "stdout",
     "output_type": "stream",
     "text": [
      "3983544\t26510214\t27497623\t38263347\t47355723\t54596805\t66228791\t70225650\t191956991\t203259863\t208280571\t229478837\t309117001\t313496281\t372160850\t382679830\t383721931\t411580630\t481669769\t489379467\t495252691\t498063933\t517868468\t595803514\t635072378\t682905935\t688383842\t691796831\t738114728\t762526077\t793813188\t807658874\t833378517\t835001441\t841943053\t842013253\t846160256\t847563842\t887776179\t903460220\t912152686\t917240385\t957119288\t1005796708\t1010972207\t1018498275\t1049430217\t1114341229\t1131001930\t1138151778\t1188565690\t1246087678\t1293443401\t1328821015\t1337265944\t1345771624\t1360480768\t1400368429\t1425529362\t1428942351\t1455183221\t1481232634\t1485610020\t1490564809\t1508264267\t1508730258\t1529398643\t1540525808\t1599035857\t1620381397\t1659267905\t1671865271\t1695162037\t1710144743\t1748806379\t1749086935\t1757500467\t1761390828\t1815035170\t1876158343\t1901344109\t1902145439\t1903470463\t1918236897\t1921246853\t1947719746\t1952890437\t1967279789\t1993790003\t2005431867\t2020304076\t2024287620\t2042989836\t2054583879\t2055172719\t2076403518\t2105405094\t2113203845\t2113913204\t2144070659\t"
     ]
    }
   ],
   "source": [
    "#include <time.h>\n",
    "#include <stdio.h>\n",
    "#include <stdlib.h>\n",
    "#include \"/home/davidson/Algoritmos/Ordenacao/bibaux.h\"\n",
    "\n",
    "#define tam 100\n",
    "\n",
    "void bubblesort(int *v, int t){\n",
    "    int i, j, aux;\n",
    "    for(i=t-1; i>=1; i--){\n",
    "        for(j=0; j<i; j++){\n",
    "            if(v[j] > v[j+1]){\n",
    "                aux = v[j];\n",
    "                v[j] = v[j+1];\n",
    "                v[j+1] = aux;\n",
    "            }\n",
    "        }\n",
    "    }\n",
    "}\n",
    "\n",
    "void main(){\n",
    "    int v[tam];\n",
    "    int i;\n",
    "    \n",
    "    vetorAleatorio(v, tam);\n",
    "    \n",
    "    bubblesort(v, tam);\n",
    "    \n",
    "    for(i=0; i<tam; i++){\n",
    "        printf(\"%d\\t\", v[i]);\n",
    "    }\n",
    "}"
   ]
  },
  {
   "cell_type": "markdown",
   "metadata": {},
   "source": [
    "## InsertionSort"
   ]
  },
  {
   "cell_type": "code",
   "execution_count": 36,
   "metadata": {},
   "outputs": [
    {
     "name": "stdout",
     "output_type": "stream",
     "text": [
      "0\t2\t3\t4\t4\t6\t7\t8\t9\t11\t13\t13\t14\t14\t14\t18\t19\t19\t19\t20\t22\t23\t24\t24\t25\t26\t26\t26\t28\t28\t30\t31\t33\t33\t34\t34\t34\t35\t36\t36\t37\t37\t37\t38\t39\t39\t40\t40\t42\t44\t46\t46\t47\t47\t48\t51\t52\t52\t53\t53\t53\t54\t57\t58\t59\t60\t60\t60\t60\t61\t61\t62\t63\t64\t64\t65\t65\t66\t66\t68\t69\t69\t70\t70\t72\t75\t77\t79\t80\t82\t84\t87\t91\t91\t92\t92\t96\t97\t97\t99\t"
     ]
    }
   ],
   "source": [
    "#include <time.h>\n",
    "#include <stdio.h>\n",
    "#include <stdlib.h>\n",
    "#include \"/home/davidson/Algoritmos/Ordenacao/bibaux.h\"\n",
    "\n",
    "#define tam 100\n",
    "\n",
    "void insertionSort(int *v, int t){\n",
    "    int i, j, aux;\n",
    "    for(i=0; i<t; i++){\n",
    "        aux = v[i];\n",
    "        j = i-1;\n",
    "        while((j>=0) && (v[j] > aux)){\n",
    "            v[j+1] = v[j];\n",
    "            j = j-1;\n",
    "            v[j+1] = aux;\n",
    "        }\n",
    "    }\n",
    "}\n",
    "\n",
    "void main(){\n",
    "    int v[tam];\n",
    "    int i;\n",
    "    \n",
    "    vetorAleatorio(v, tam);\n",
    "    \n",
    "    insertionSort(v, tam);\n",
    "    \n",
    "    for(i=0; i<tam; i++){\n",
    "        printf(\"%d\\t\", v[i]);\n",
    "    }\n",
    "}"
   ]
  },
  {
   "cell_type": "markdown",
   "metadata": {},
   "source": [
    "## SelectionSort"
   ]
  },
  {
   "cell_type": "code",
   "execution_count": 42,
   "metadata": {},
   "outputs": [
    {
     "name": "stdout",
     "output_type": "stream",
     "text": [
      "4\t11\t31\t39\t47\t50\t90\t96\t98\t99\t"
     ]
    }
   ],
   "source": [
    "#include <time.h>\n",
    "#include <stdio.h>\n",
    "#include <stdlib.h>\n",
    "#include \"/home/davidson/Algoritmos/Ordenacao/bibaux.h\"\n",
    "\n",
    "#define tam 10\n",
    "\n",
    "void selectionSort(int *v, int t){\n",
    "    int i, j, aux;\n",
    "    for(i=0; i<tam-1; i++){\n",
    "        aux = i;\n",
    "        for(j=i+1; j<tam; j++){\n",
    "            if(v[j] < v[aux]){\n",
    "                aux = j;\n",
    "            }\n",
    "        }\n",
    "        if(i!=aux){\n",
    "            v[i] = v[i] + v[aux];\n",
    "            v[aux] = v[i] - v[aux];\n",
    "            v[i] = v[i] - v[aux];\n",
    "        }\n",
    "    }\n",
    "}\n",
    "\n",
    "void main(){\n",
    "    int v[tam];\n",
    "    int i;\n",
    "    \n",
    "    vetorAleatorio(v, tam);\n",
    "    \n",
    "    selectionSort(v, tam);\n",
    "    \n",
    "    for(i=0; i<tam; i++){\n",
    "        printf(\"%d\\t\", v[i]);\n",
    "    }\n",
    "}"
   ]
  },
  {
   "cell_type": "markdown",
   "metadata": {},
   "source": [
    "## MergeSort"
   ]
  },
  {
   "cell_type": "code",
   "execution_count": null,
   "metadata": {},
   "outputs": [],
   "source": [
    "#include <time.h>\n",
    "#include <stdio.h>\n",
    "#include <stdlib.h>\n",
    "#include \"/home/davidson/Algoritmos/Ordenacao/bibaux.h\"\n",
    "\n",
    "#define tam 10\n",
    "\n",
    "int mergeSort(int *v, int t){\n",
    "    int k;\n",
    "    int *l;\n",
    "    int *r;\n",
    "    if(t==1)\n",
    "        return 0;\n",
    "    else{\n",
    "        k = t/2;\n",
    "        \n",
    "    }\n",
    "        \n",
    "}\n",
    "\n",
    "void main(){\n",
    "    int v[tam];\n",
    "    int i;\n",
    "    \n",
    "    vetorAleatorio(v, tam);\n",
    "    \n",
    "    mergeSort(v, tam);\n",
    "    \n",
    "    for(i=0; i<tam; i++){\n",
    "        printf(\"%d\\t\", v[i]);\n",
    "    }\n",
    "}"
   ]
  }
 ],
 "metadata": {
  "kernelspec": {
   "display_name": "C",
   "language": "c",
   "name": "c"
  },
  "language_info": {
   "file_extension": ".c",
   "mimetype": "text/plain",
   "name": "c"
  }
 },
 "nbformat": 4,
 "nbformat_minor": 2
}
